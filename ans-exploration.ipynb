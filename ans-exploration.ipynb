{
 "cells": [
  {
   "cell_type": "markdown",
   "metadata": {},
   "source": [
    "# Explore ANS using toy examples"
   ]
  },
  {
   "cell_type": "markdown",
   "metadata": {},
   "source": [
    "Given the Decimal System:\n",
    "- Alphabet: $X = \\{0, \\dots, 9\\}$, uniformly distributed\n",
    "\n",
    "The Entropy per symbol: $$H_p(X_i) = E_p[-\\log_2 P(X_i)] = E_p[-\\log_2 P(\\dfrac{1}{10})] = \\log_2 10 = 3.32 \\text{ bits}$$\n",
    "\n",
    "The expected code word length using optimal symbol encoding (average depth of the tree for alphabet X): $$E_p[l(X_i)] = 3.4 \\text{ bits}$$\n",
    "\n",
    "Can we achieve a better compression than the optimal symbol code?\n"
   ]
  },
  {
   "cell_type": "code",
   "execution_count": 5,
   "metadata": {},
   "outputs": [
    {
     "name": "stdout",
     "output_type": "stream",
     "text": [
      "initial_msg: [2, 3, 4, 5, 6, 7, 8, 9, 2, 3, 4, 5, 6, 7, 8, 9, 2, 3, 4, 5]\n",
      "encoded: 123456789234567892345 | binary representation: 1101011000101001110100111111011010011101100101100000100110101111001\n",
      "decoded: [2, 3, 4, 5, 6, 7, 8, 9, 2, 3, 4, 5, 6, 7, 8, 9, 2, 3, 4, 5]\n",
      "bitrate: 3.35\n"
     ]
    }
   ],
   "source": [
    "from typing import Iterator\n",
    "\n",
    "def encode_better_than_symbol_coding(msg:list[int], base:int)->int:\n",
    "    #create integer to represent the compressed message\n",
    "    compressed = 1\n",
    "    for symb in msg:\n",
    "        assert symb < base, f\"Symbol {symb} is greater than base {base}\"\n",
    "        compressed  = compressed * base + symb # multiply by base and add the new symbol\n",
    "    return compressed\n",
    "\n",
    "def decode_better_than_symbol_coding(compressed:int, base:int)->Iterator[int]:\n",
    "    while compressed != 1: # while the compressed number is not 1 (starting number)\n",
    "        yield compressed % base # get the last digit\n",
    "        compressed = compressed // base # remove the last digit\n",
    "\n",
    "\n",
    "initial_msg, base = [2,3,4,5,6,7,8,9,2,3,4,5,6,7,8,9,2,3,4,5], 10\n",
    "e = encode_better_than_symbol_coding(initial_msg, base)\n",
    "d = decode_better_than_symbol_coding(e, base)\n",
    "\n",
    "print(f\"initial_msg: {initial_msg}\")\n",
    "print(f\"encoded: {e} | binary representation: {e:b}\")\n",
    "print(f\"decoded: {list(d)[::-1]}\")\n",
    "\n",
    "\n",
    "print(f\"bitrate: {e.bit_length() / len(initial_msg) :.2f}\")"
   ]
  },
  {
   "cell_type": "markdown",
   "metadata": {},
   "source": [
    "**Observations of the above compression algo**: Conversion between different numeral systems\n",
    "1. operates as a stack (LIFO)\n",
    "2. amortizes compressed bits over symbols (could be better than symbol codes)\n",
    "3. optimally compresses a sequence of symbols if these symbols:\n",
    "    - are from the same alphabet\n",
    "    - uniformly distributed over the alphabet thus statistically independent iid (no correlations between symbols) \n"
   ]
  },
  {
   "cell_type": "markdown",
   "metadata": {},
   "source": [
    "### Improving our coding algorithm"
   ]
  },
  {
   "cell_type": "code",
   "execution_count": 6,
   "metadata": {},
   "outputs": [
    {
     "name": "stdout",
     "output_type": "stream",
     "text": [
      "Initial message: [6, 1, 4, 5, 0]\n",
      "\n",
      "Encoding process:\n",
      "Symbol: 6, Base: 7 -> Compressed: 13\n",
      "Symbol: 1, Base: 2 -> Compressed: 27\n",
      "Symbol: 4, Base: 5 -> Compressed: 139\n",
      "Symbol: 5, Base: 6 -> Compressed: 839\n",
      "Symbol: 0, Base: 1 -> Compressed: 839\n",
      "\n",
      "Final encoded value: 839\n",
      "Binary representation: 1101000111\n",
      "\n",
      "Decoding process:\n",
      "Base: 1 -> Symbol: 0\n",
      "Base: 6 -> Symbol: 5\n",
      "Base: 5 -> Symbol: 4\n",
      "Base: 2 -> Symbol: 1\n",
      "Base: 7 -> Symbol: 6\n",
      "\n",
      "Decoded message: [6, 1, 4, 5, 0]\n",
      "Bitrate: 2.00 bits per symbol\n"
     ]
    }
   ],
   "source": [
    "from typing import Iterator\n",
    "\n",
    "class Coder:\n",
    "    def __init__(self):\n",
    "        self.compressed = 1\n",
    "\n",
    "    def encode(self, symbol:int, base:int)->int:\n",
    "        #create integer to represent the compressed message\n",
    "        assert symbol < base, f\"Symbol {symbol} is greater than base {base}\"\n",
    "        self.compressed = self.compressed * base + symbol\n",
    "\n",
    "    def decode(self, base:int)->Iterator[int]:\n",
    "        symbol = self.compressed % base # get the last digit\n",
    "        self.compressed //= base # remove the last digit\n",
    "        return symbol\n",
    "    \n",
    "\n",
    "\n",
    "# initial message\n",
    "import random\n",
    "initial_msg = [random.randint(0, 9) for _ in range(5)]\n",
    "coder = Coder()\n",
    "print(f\"Initial message: {initial_msg}\")\n",
    "\n",
    "# Encode the message with different bases\n",
    "print(\"\\nEncoding process:\")\n",
    "# Base must be at least symbol + 1\n",
    "bases = [symbol + 1 for symbol in initial_msg]\n",
    "\n",
    "for symbol, base in zip(initial_msg, bases):\n",
    "    coder.encode(symbol, base)\n",
    "    print(f\"Symbol: {symbol}, Base: {base} -> Compressed: {coder.compressed}\")\n",
    "\n",
    "print(f\"\\nFinal encoded value: {coder.compressed}\")\n",
    "print(f\"Binary representation: {coder.compressed:b}\")\n",
    "e = coder.compressed.bit_length()\n",
    "\n",
    "# Decode the message\n",
    "print(\"\\nDecoding process:\")\n",
    "decoded = []\n",
    "\n",
    "for base in reversed(bases):\n",
    "    symbol = coder.decode(base)\n",
    "    decoded.append(symbol)\n",
    "    print(f\"Base: {base} -> Symbol: {symbol}\")\n",
    "\n",
    "print(f\"\\nDecoded message: {decoded[::-1]}\")\n",
    "print(f\"Bitrate: {e / len(initial_msg) :.2f} bits per symbol\")"
   ]
  },
  {
   "cell_type": "markdown",
   "metadata": {},
   "source": [
    "Observations:\n",
    "- you DO NOT need to encode every symbol from the same alphabet (you can reduce/change the base to compress better)\n",
    "    - this drastically reduces/improves the bitrate\n",
    "- the symbols dont have to be uniformly distributed"
   ]
  },
  {
   "cell_type": "code",
   "execution_count": null,
   "metadata": {},
   "outputs": [],
   "source": []
  }
 ],
 "metadata": {
  "kernelspec": {
   "display_name": "dl",
   "language": "python",
   "name": "python3"
  },
  "language_info": {
   "codemirror_mode": {
    "name": "ipython",
    "version": 3
   },
   "file_extension": ".py",
   "mimetype": "text/x-python",
   "name": "python",
   "nbconvert_exporter": "python",
   "pygments_lexer": "ipython3",
   "version": "3.13.3"
  }
 },
 "nbformat": 4,
 "nbformat_minor": 2
}
