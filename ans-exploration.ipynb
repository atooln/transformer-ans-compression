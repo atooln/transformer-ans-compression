{
 "cells": [
  {
   "cell_type": "markdown",
   "metadata": {},
   "source": [
    "# Explore ANS using toy examples"
   ]
  },
  {
   "cell_type": "markdown",
   "metadata": {},
   "source": [
    "Given the Decimal System:\n",
    "- Alphabet: $X = \\{0, \\dots, 9\\}$, uniformly distributed\n",
    "\n",
    "The Entropy per symbol: $$H_p(X_i) = E_p[-\\log_2 P(X_i)] = E_p[-\\log_2 P(\\dfrac{1}{10})] = \\log_2 10 = 3.32 \\text{ bits}$$\n",
    "\n",
    "The expected code word length using optimal symbol encoding (average depth of the tree for alphabet X): $$E_p[l(X_i)] = 3.4 \\text{ bits}$$\n",
    "\n",
    "Can we achieve a better compression than the optimal symbol code?\n"
   ]
  },
  {
   "cell_type": "code",
   "execution_count": 35,
   "metadata": {},
   "outputs": [
    {
     "name": "stdout",
     "output_type": "stream",
     "text": [
      "initial_msg: [3, 2, 7, 5, 6, 2, 4, 5, 5, 6, 7, 8, 6, 5, 3, 2, 9, 2, 3, 5]\n",
      "encoded: 132756245567865329235 | binary representation: 1110011001001011100111011011111100010100011001000111001011001010011\n",
      "decoded: [3, 2, 7, 5, 6, 2, 4, 5, 5, 6, 7, 8, 6, 5, 3, 2, 9, 2, 3, 5]\n",
      "bitrate: 3.35\n"
     ]
    }
   ],
   "source": [
    "from typing import Iterator\n",
    "\n",
    "def encode_better_than_symbol_coding(msg:list[int], base:int)->int:\n",
    "    #create integer to represent the compressed message\n",
    "    compressed = 1\n",
    "    for symb in msg:\n",
    "        assert symb < base, f\"Symbol {symb} is greater than base {base}\"\n",
    "        compressed  = compressed * base + symb # multiply by base and add the new symbol\n",
    "    return compressed\n",
    "\n",
    "def decode_better_than_symbol_coding(compressed:int, base:int)->Iterator[int]:\n",
    "    while compressed != 1: # while the compressed number is not 1 (starting number)\n",
    "        yield compressed % base # get the last digit\n",
    "        compressed = compressed // base # remove the last digit\n",
    "\n",
    "\n",
    "initial_msg, base = [3,2,7,5,6,2,4,5,5,6,7,8,6,5,3,2,9,2,3,5], 10\n",
    "e = encode_better_than_symbol_coding(initial_msg, base)\n",
    "d = decode_better_than_symbol_coding(e, base)\n",
    "\n",
    "print(f\"initial_msg: {initial_msg}\")\n",
    "print(f\"encoded: {e} | binary representation: {e:b}\")\n",
    "print(f\"decoded: {list(d)[::-1]}\")\n",
    "\n",
    "\n",
    "print(f\"bitrate: {e.bit_length() / len(initial_msg) :.2f}\")"
   ]
  },
  {
   "cell_type": "code",
   "execution_count": null,
   "metadata": {},
   "outputs": [],
   "source": []
  }
 ],
 "metadata": {
  "kernelspec": {
   "display_name": "dl",
   "language": "python",
   "name": "python3"
  },
  "language_info": {
   "codemirror_mode": {
    "name": "ipython",
    "version": 3
   },
   "file_extension": ".py",
   "mimetype": "text/x-python",
   "name": "python",
   "nbconvert_exporter": "python",
   "pygments_lexer": "ipython3",
   "version": "3.13.3"
  }
 },
 "nbformat": 4,
 "nbformat_minor": 2
}
